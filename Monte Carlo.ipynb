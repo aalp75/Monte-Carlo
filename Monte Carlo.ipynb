{
 "cells": [
  {
   "cell_type": "code",
   "execution_count": 1,
   "metadata": {},
   "outputs": [
    {
     "name": "stdout",
     "output_type": "stream",
     "text": [
      "Expectation : 1.0156989530825988\n",
      "Variance : 12.050022301676695\n",
      "Expectation : 0.2512024272174719\n",
      "Variance : 0.06291179317333273\n",
      "Expectation : 4.993054035159221\n",
      "Variance : 10.033037297492777\n",
      "[[ 1.         -0.55162059]\n",
      " [-0.55162059  1.        ]]\n",
      "[0. 0.]\n",
      "[-0.63884577  1.03232426]\n",
      "Expectation : 13.306654276884533\n",
      "Variance : 76.97856294123615\n",
      "Expectation : 5.1037970080834585\n",
      "Variance : 2286.7707145623403\n",
      "Expectation : 5.9974714106678615\n",
      "Variance : 11.868891581895644\n"
     ]
    }
   ],
   "source": [
    "import sys\n",
    "import math\n",
    "sys.path.insert(0,'../RandomGenerator/')\n",
    "sys.path.insert(0,'../Cryptographie/RSA/')\n",
    "from PrimeNumber import *\n",
    "from RNG_UsualLaw_Continue import *\n",
    "from scipy.stats import norm\n",
    "from scipy.special import ndtri\n",
    "import matplotlib.pyplot as plt\n",
    "import numpy as np\n",
    "import scipy.integrate as integrate\n",
    "import time"
   ]
  },
  {
   "cell_type": "markdown",
   "metadata": {},
   "source": [
    "Don't give importance to the computentional time because we mostly study convergence in this Jupyter Book"
   ]
  },
  {
   "cell_type": "markdown",
   "metadata": {},
   "source": [
    "## Monte Carlo for Integral"
   ]
  },
  {
   "cell_type": "markdown",
   "metadata": {},
   "source": [
    "Monte Carlo method to compute\n",
    "$\\begin{equation*}\n",
    "\\int_a^b f(x) dx\n",
    "\\end{equation*}$\n"
   ]
  },
  {
   "cell_type": "markdown",
   "metadata": {},
   "source": [
    "Function to evaluate :"
   ]
  },
  {
   "cell_type": "code",
   "execution_count": 2,
   "metadata": {},
   "outputs": [],
   "source": [
    "def f1(x):\n",
    "    return(1/(1+x))\n",
    "\n",
    "def f2(x):\n",
    "    return(x*x + 2*x -3)"
   ]
  },
  {
   "cell_type": "code",
   "execution_count": 3,
   "metadata": {},
   "outputs": [],
   "source": [
    "def MC(f,a,b,N=1000,alpha=0.05,conv=False):\n",
    "    exact_result = integrate.quad(f,a,b)[0]\n",
    "    res = []\n",
    "    conv = []\n",
    "    sample = Uniform_Continue(a,b,N)\n",
    "    for i in range(N):\n",
    "        res.append((b-a)*f(sample[i]))\n",
    "        conv.append(abs(exact_result-np.mean(res)))\n",
    "    sigma = np.std(res)\n",
    "    sigma2 = np.var(res)\n",
    "    quantil = ndtri(1-alpha/2)\n",
    "    res = np.mean(res)\n",
    "    print(\"Standard deviation :\", sigma)\n",
    "    print(\"Variance :\",sigma2)\n",
    "    print(\"Confidence interval of\", 1-alpha,\"% : [\", res - quantil*sigma/math.sqrt(N), \" : \",res + quantil*sigma/math.sqrt(N),\"]\")\n",
    "    return res,conv"
   ]
  },
  {
   "cell_type": "code",
   "execution_count": 4,
   "metadata": {},
   "outputs": [
    {
     "name": "stdout",
     "output_type": "stream",
     "text": [
      "Standard deviation : 0.14427708492606311\n",
      "Variance : 0.020815877234762425\n",
      "Confidence interval of 0.95 % : [ 0.6969359872043954  :  0.7072615758212872 ]\n",
      "0.7020987815128413\n",
      "Exact result : (0.6931471805599454, 7.695479593116622e-15)\n"
     ]
    }
   ],
   "source": [
    "res,_ = MC(f1,0,1,N=3000)\n",
    "print(res)\n",
    "exact_result = integrate.quad(f1,0,1)\n",
    "print(\"Exact result :\",exact_result)"
   ]
  },
  {
   "cell_type": "markdown",
   "metadata": {},
   "source": [
    "# Variance Reduction"
   ]
  },
  {
   "cell_type": "markdown",
   "metadata": {},
   "source": [
    "### Antithetic variable"
   ]
  },
  {
   "cell_type": "code",
   "execution_count": 5,
   "metadata": {},
   "outputs": [],
   "source": [
    "def MC_anthitetic(f,a,b,N=1000,alpha=0.05):\n",
    "    exact_result = integrate.quad(f,a,b)[0]\n",
    "    sample = Uniform_Continue(a,b,N)\n",
    "    res = []\n",
    "    conv = []\n",
    "    for i in range(N):\n",
    "        val = (b-a)* (f(sample[i]) + f(b-sample[i]+a))/2\n",
    "        res.append(val)\n",
    "        conv.append(abs(exact_result-np.mean(res)))\n",
    "    sigma = np.std(res)\n",
    "    sigma2 = np.var(res)\n",
    "    res = np.mean(res)\n",
    "    print(\"Standard deviation :\", sigma)\n",
    "    print(\"Variance :\",sigma2)\n",
    "    quantil = ndtri(1-alpha/2)\n",
    "    print(\"Confidence interval of\", 1-alpha,\"% : [\", res - quantil*sigma/math.sqrt(N), \" : \",res + quantil*sigma/math.sqrt(N),\"]\")\n",
    "    return res,conv"
   ]
  },
  {
   "cell_type": "code",
   "execution_count": 6,
   "metadata": {},
   "outputs": [
    {
     "name": "stdout",
     "output_type": "stream",
     "text": [
      "\u001b[1mMonte Carlo Standard : \u001b[0m\n",
      "Standard deviation : 0.1397802863085356\n",
      "Variance : 0.01953852844049618\n",
      "Confidence interval of 0.95 % : [ 0.6884710675019866  :  0.6939503540402551 ]\n",
      "Result : 0.6912107107711208 in 2.027021884918213 secondes\n",
      "Error :  0.0019364697888245574 \n",
      " \n",
      "\n",
      "\u001b[1mMonte Carlo Antithetic Variates : \u001b[0m\n",
      "Standard deviation : 0.02455937489469194\n",
      "Variance : 0.0006031628952180247\n",
      "Confidence interval of 0.95 % : [ 0.6929397260911856  :  0.6939024358967139 ]\n",
      "Result : 0.6934210809939497 in 1.8830211162567139 secondes\n",
      "Error :  0.00027390043400432607\n"
     ]
    }
   ],
   "source": [
    "N=10000\n",
    "print('\\033[1m' + \"Monte Carlo Standard : \" + '\\033[0m')\n",
    "start_time = time.time()\n",
    "res1,_ = MC(f1,0,1,N)\n",
    "print(\"Result :\",res1,\"in\",time.time() - start_time,\"secondes\")\n",
    "print(\"Error : \",abs(integrate.quad(f1,0,1)[0]-res1),\"\\n \\n\")\n",
    "print('\\033[1m' + \"Monte Carlo Antithetic Variates : \" + '\\033[0m')\n",
    "start_time = time.time()\n",
    "res2,_ = MC_anthitetic(f1,0,1,N)\n",
    "print(\"Result :\",res2,\"in\",time.time() - start_time,\"secondes\")\n",
    "print(\"Error : \",abs(integrate.quad(f1,0,1)[0]-res2))"
   ]
  },
  {
   "cell_type": "code",
   "execution_count": 7,
   "metadata": {
    "scrolled": true
   },
   "outputs": [
    {
     "name": "stdout",
     "output_type": "stream",
     "text": [
      "\u001b[1mMonte Carlo Standard : \u001b[0m\n",
      "Standard deviation : 11.598368842130432\n",
      "Variance : 134.522159798102\n",
      "Confidence interval of 0.95 % : [ 42.41561164818808  :  42.870259352387826 ]\n",
      "Result : 42.642935500287955 in 1.954261064529419 secondes\n",
      "Error :  0.023731166378709645 \n",
      " \n",
      "\n",
      "\u001b[1mMonte Carlo Antithetic Variates : \u001b[0m\n",
      "Standard deviation : 0.5999281839605414\n",
      "Variance : 0.35991382591019316\n",
      "Confidence interval of 0.95 % : [ 42.66273179812061  :  42.68624855079808 ]\n",
      "Result : 42.67449017445934 in 1.8712518215179443 secondes\n",
      "Error :  0.007823507792679152\n"
     ]
    }
   ],
   "source": [
    "N=10000\n",
    "print('\\033[1m' + \"Monte Carlo Standard : \" + '\\033[0m')\n",
    "start_time = time.time()\n",
    "res1,_ = MC(f2,3,5,N)\n",
    "print(\"Result :\",res1,\"in\",time.time() - start_time,\"secondes\")\n",
    "print(\"Error : \",abs(integrate.quad(f2,3,5)[0]-res1),\"\\n \\n\")\n",
    "print('\\033[1m' + \"Monte Carlo Antithetic Variates : \" + '\\033[0m')\n",
    "start_time = time.time()\n",
    "res2,_ = MC_anthitetic(f2,3,5,N)\n",
    "print(\"Result :\",res2,\"in\",time.time() - start_time,\"secondes\")\n",
    "print(\"Error : \",abs(integrate.quad(f2,3,5)[0]-res2))"
   ]
  },
  {
   "cell_type": "markdown",
   "metadata": {},
   "source": [
    "### Control Variate"
   ]
  },
  {
   "cell_type": "code",
   "execution_count": 8,
   "metadata": {},
   "outputs": [],
   "source": [
    "def MC_control_variate(f,a,b,N=1000,alpha=0.05):\n",
    "    exact_result = integrate.quad(f,a,b)[0]\n",
    "    sample = Uniform_Continue(a,b,N)\n",
    "    res = []\n",
    "    conv = []\n",
    "    m = []\n",
    "    t = []\n",
    "    for i in range(N):\n",
    "        m.append(f(sample[i]))\n",
    "        t.append(1+sample[i])\n",
    "    c = - np.cov(m,t)[0,1]/np.var(t)\n",
    "    m_star = []\n",
    "    tau = (b+a+2)/2\n",
    "    for i in range(N):\n",
    "        m_star.append((b-a)* (m[i] + c*(t[i] - tau)))\n",
    "        conv.append(abs(exact_result-np.mean(m_star)))\n",
    "    print(\"mean t :\",np.mean(t))\n",
    "    sigma = np.std(m_star)\n",
    "    sigma2 = np.var(m_star)\n",
    "    res = np.mean(m_star)\n",
    "    print(\"Standard deviation :\", sigma)\n",
    "    print(\"Variance :\",sigma2)\n",
    "    quantil = ndtri(1-alpha/2)\n",
    "    print(\"Confidence interval of\", 1-alpha,\"% : [\", res - quantil*sigma/math.sqrt(N), \" : \",res + quantil*sigma/math.sqrt(N),\"]\")\n",
    "    return res,conv"
   ]
  },
  {
   "cell_type": "code",
   "execution_count": 9,
   "metadata": {},
   "outputs": [
    {
     "name": "stdout",
     "output_type": "stream",
     "text": [
      "\u001b[1mMonte Carlo Standard : \u001b[0m\n",
      "Standard deviation : 0.13994660908884549\n",
      "Variance : 0.019585053395466127\n",
      "Confidence interval of 0.95 % : [ 0.6897327202620016  :  0.6952185265334545 ]\n",
      "Result : 0.6924756233977281 in 1.8234550952911377 secondes\n",
      "Error :  0.00067155716221734 \n",
      " \n",
      "\n",
      "\u001b[1mMonte Carlo Antithetic Variates : \u001b[0m\n",
      "mean t : 1.5044776643153979\n",
      "Standard deviation : 0.024854537714134435\n",
      "Variance : 0.0006177480449833311\n",
      "Confidence interval of 0.95 % : [ 0.6927644619334953  :  0.6937387419089373 ]\n",
      "Result : 0.6932516019212163 in 3.6645920276641846 secondes\n",
      "Error :  0.00010442136127086776\n"
     ]
    }
   ],
   "source": [
    "N=10000\n",
    "print('\\033[1m' + \"Monte Carlo Standard : \" + '\\033[0m')\n",
    "start_time = time.time()\n",
    "res1,_ = MC(f1,0,1,N)\n",
    "print(\"Result :\",res1,\"in\",time.time() - start_time,\"secondes\")\n",
    "print(\"Error : \",abs(integrate.quad(f1,0,1)[0]-res1),\"\\n \\n\")\n",
    "print('\\033[1m' + \"Monte Carlo Antithetic Variates : \" + '\\033[0m')\n",
    "start_time = time.time()\n",
    "res2,_ = MC_control_variate(f1,0,1,N)\n",
    "print(\"Result :\",res2,\"in\",time.time() - start_time,\"secondes\")\n",
    "print(\"Error : \",abs(integrate.quad(f1,0,1)[0]-res2))"
   ]
  },
  {
   "cell_type": "code",
   "execution_count": 10,
   "metadata": {},
   "outputs": [
    {
     "name": "stdout",
     "output_type": "stream",
     "text": [
      "\u001b[1mMonte Carlo Standard : \u001b[0m\n",
      "Standard deviation : 11.559151895036683\n",
      "Variance : 133.61399253253012\n",
      "Confidence interval of 0.95 % : [ 42.58340652854543  :  43.036516956667434 ]\n",
      "Result : 42.80996174260643 in 1.8418970108032227 secondes\n",
      "Error :  0.14329507593976842 \n",
      " \n",
      "\n",
      "\u001b[1mMonte Carlo Antithetic Variates : \u001b[0m\n",
      "mean t : 5.001300511548948\n",
      "Standard deviation : 0.5930679086033985\n",
      "Variance : 0.35172954421520913\n",
      "Confidence interval of 0.95 % : [ 42.65222059030761  :  42.67546842513259 ]\n",
      "Result : 42.6638445077201 in 3.850933074951172 secondes\n",
      "Error :  0.002822158946564457\n"
     ]
    }
   ],
   "source": [
    "N=10000\n",
    "print('\\033[1m' + \"Monte Carlo Standard : \" + '\\033[0m')\n",
    "start_time = time.time()\n",
    "res1,_ = MC(f2,3,5,N)\n",
    "print(\"Result :\",res1,\"in\",time.time() - start_time,\"secondes\")\n",
    "print(\"Error : \",abs(integrate.quad(f2,3,5)[0]-res1),\"\\n \\n\")\n",
    "print('\\033[1m' + \"Monte Carlo Antithetic Variates : \" + '\\033[0m')\n",
    "start_time = time.time()\n",
    "res2,_ = MC_control_variate(f2,3,5,N)\n",
    "print(\"Result :\",res2,\"in\",time.time() - start_time,\"secondes\")\n",
    "print(\"Error : \",abs(integrate.quad(f2,3,5)[0]-res2))"
   ]
  },
  {
   "cell_type": "markdown",
   "metadata": {},
   "source": [
    "## Quasi Monte Carlo"
   ]
  },
  {
   "cell_type": "markdown",
   "metadata": {},
   "source": [
    "### Naive method for generate low discrepency sequence on [0,1], $r_{i+1} \\equiv (r_i + c )\\mod 1$\n",
    "\n",
    "The choice of constant $c$ is very important"
   ]
  },
  {
   "cell_type": "code",
   "execution_count": 11,
   "metadata": {},
   "outputs": [],
   "source": [
    "def Naive_LD_sequence(n,dim,a=0,b=1):\n",
    "    c = [np.sqrt(2)%1]\n",
    "    len_c = 1\n",
    "    number = 3\n",
    "    while len_c < dim:\n",
    "        if (is_prime_Miller(number,10)):\n",
    "            c.append(np.sqrt(number)%1)\n",
    "            len_c +=1 \n",
    "        number +=1  \n",
    "    c = [0.5545497,0.308517]\n",
    "    s0 = 0.5\n",
    "    sample = []\n",
    "    for d in range(dim):\n",
    "        s = [s0]\n",
    "        for i in range(1,n):\n",
    "            U = (s[i-1]+c[d])%1\n",
    "            s.append(a+U*(b-a))\n",
    "        sample.append(s)\n",
    "    return sample"
   ]
  },
  {
   "cell_type": "markdown",
   "metadata": {},
   "source": [
    "It works well on [0,1]"
   ]
  },
  {
   "cell_type": "code",
   "execution_count": 12,
   "metadata": {
    "scrolled": true
   },
   "outputs": [
    {
     "data": {
      "image/png": "[encoded data removed]",
      "text/plain": [
       "<Figure size 432x288 with 1 Axes>"
      ]
     },
     "metadata": {
      "needs_background": "light"
     },
     "output_type": "display_data"
    }
   ],
   "source": [
    "a,b = 0,1\n",
    "n = 10000\n",
    "sequence = Naive_LD_sequence(n,dim=2,a=a,b=b)\n",
    "plt.scatter(sequence[0],sequence[1],s=2)\n",
    "plt.axis([a,b,a,b])\n",
    "plt.show()"
   ]
  },
  {
   "cell_type": "markdown",
   "metadata": {},
   "source": [
    "But you can't transpose it on all interval $[a,b]$ such that $[3,5]$ for example"
   ]
  },
  {
   "cell_type": "code",
   "execution_count": 13,
   "metadata": {},
   "outputs": [
    {
     "data": {
      "image/png": "[encoded data removed]",
      "text/plain": [
       "<Figure size 432x288 with 1 Axes>"
      ]
     },
     "metadata": {
      "needs_background": "light"
     },
     "output_type": "display_data"
    }
   ],
   "source": [
    "a,b = 3,5\n",
    "n = 10000\n",
    "sequence = Naive_LD_sequence(n,dim=2,a=a,b=b)\n",
    "plt.scatter(sequence[0],sequence[1],s=2)\n",
    "plt.axis([a,b,a,b])\n",
    "plt.show()"
   ]
  },
  {
   "cell_type": "code",
   "execution_count": 14,
   "metadata": {},
   "outputs": [
    {
     "data": {
      "text/plain": [
       "(array([2.23762424e-04, 0.00000000e+00, 0.00000000e+00, 0.00000000e+00,\n",
       "        0.00000000e+00, 6.71287271e-04, 2.23762424e-03, 2.22979255e+00,\n",
       "        2.01386181e-03, 2.68514908e-03]),\n",
       " array([0.5       , 0.94690256, 1.39380512, 1.84070768, 2.28761024,\n",
       "        2.7345128 , 3.18141536, 3.62831792, 4.07522048, 4.52212304,\n",
       "        4.9690256 ]),\n",
       " <a list of 10 Patch objects>)"
      ]
     },
     "execution_count": 14,
     "metadata": {},
     "output_type": "execute_result"
    },
    {
     "data": {
      "image/png": "[encoded data removed]",
      "text/plain": [
       "<Figure size 432x288 with 1 Axes>"
      ]
     },
     "metadata": {
      "needs_background": "light"
     },
     "output_type": "display_data"
    }
   ],
   "source": [
    "plt.hist(sequence[0],density=True)"
   ]
  },
  {
   "cell_type": "markdown",
   "metadata": {},
   "source": [
    "Where a random sample on $[3,5]^2$ gives"
   ]
  },
  {
   "cell_type": "code",
   "execution_count": 15,
   "metadata": {},
   "outputs": [
    {
     "data": {
      "image/png": "[encoded data removed]",
      "text/plain": [
       "<Figure size 432x288 with 1 Axes>"
      ]
     },
     "metadata": {
      "needs_background": "light"
     },
     "output_type": "display_data"
    }
   ],
   "source": [
    "a,b = 3,5\n",
    "n = 1000\n",
    "sequence1 = Uniform_Continue(a,b,n)\n",
    "sequence2 = Uniform_Continue(a,b,n)\n",
    "plt.scatter(sequence1,sequence2,s=2)\n",
    "plt.axis([a,b,a,b])\n",
    "plt.show()"
   ]
  },
  {
   "cell_type": "code",
   "execution_count": 16,
   "metadata": {},
   "outputs": [],
   "source": [
    "def QMC_naive(f,a,b,N=1000,alpha=0.05):\n",
    "    exact_result = integrate.quad(f,a,b)[0]\n",
    "    res = []\n",
    "    conv = []\n",
    "    sample = Naive_LD_sequence(N,1,a,b)[0]\n",
    "    for i in range(N):\n",
    "        res.append((b-a)*f(sample[i]))\n",
    "        conv.append(abs(exact_result-np.mean(res)))\n",
    "    sigma = np.std(res)\n",
    "    sigma2 = np.var(res)\n",
    "    quantil = ndtri(1-alpha/2)\n",
    "    res = np.mean(res)\n",
    "    print(\"Standard deviation :\", sigma)\n",
    "    print(\"Variance :\",sigma2)\n",
    "    print(\"Confidence interval of\", 1-alpha,\"% : [\", res - quantil*sigma/math.sqrt(N), \" : \",res + quantil*sigma/math.sqrt(N),\"]\")\n",
    "    return res,conv"
   ]
  },
  {
   "cell_type": "markdown",
   "metadata": {},
   "source": [
    "This QMC works on only on $[0,1]$"
   ]
  },
  {
   "cell_type": "code",
   "execution_count": 17,
   "metadata": {},
   "outputs": [
    {
     "name": "stdout",
     "output_type": "stream",
     "text": [
      "\u001b[1mMonte Carlo Standard : \u001b[0m\n",
      "Standard deviation : 0.1394718561914463\n",
      "Variance : 0.01945239866948748\n",
      "Confidence interval of 0.95 % : [ 0.6890179973458528  :  0.6944851936456964 ]\n",
      "Result : 0.6917515954957746 in 2.197996139526367 secondes\n",
      "Error :  0.0013955850641708123 \n",
      " \n",
      "\n",
      "\u001b[1mQuasi Monte Carlo naive sequence : \u001b[0m\n",
      "Standard deviation : 0.1398735037151551\n",
      "Variance : 0.01956459704155351\n",
      "Confidence interval of 0.95 % : [ 0.6905887584893242  :  0.6960716990827869 ]\n",
      "Result : 0.6933302287860555 in 2.1242728233337402 secondes\n",
      "Error :  0.0001830482261101496\n"
     ]
    }
   ],
   "source": [
    "N=10000\n",
    "print('\\033[1m' + \"Monte Carlo Standard : \" + '\\033[0m')\n",
    "start_time = time.time()\n",
    "res1,_ = MC(f1,0,1,N)\n",
    "print(\"Result :\",res1,\"in\",time.time() - start_time,\"secondes\")\n",
    "print(\"Error : \",abs(integrate.quad(f1,0,1)[0]-res1),\"\\n \\n\")\n",
    "print('\\033[1m' + \"Quasi Monte Carlo naive sequence : \" + '\\033[0m')\n",
    "start_time = time.time()\n",
    "res2,_ = QMC_naive(f1,0,1,N)\n",
    "print(\"Result :\",res2,\"in\",time.time() - start_time,\"secondes\")\n",
    "print(\"Error : \",abs(integrate.quad(f1,0,1)[0]-res2))"
   ]
  },
  {
   "cell_type": "markdown",
   "metadata": {},
   "source": [
    "Quasi Monte Carlo with this sequence do not work very well for compute integral not in $[0,1]$"
   ]
  },
  {
   "cell_type": "code",
   "execution_count": 18,
   "metadata": {},
   "outputs": [
    {
     "name": "stdout",
     "output_type": "stream",
     "text": [
      "\u001b[1mMonte Carlo Standard : \u001b[0m\n",
      "Standard deviation : 11.521757432637626\n",
      "Variance : 132.7508943365404\n",
      "Confidence interval of 0.95 % : [ 42.36638915923834  :  42.81803375136987 ]\n",
      "Result : 42.5922114553041 in 2.0829241275787354 secondes\n",
      "Error :  0.07445521136256161 \n",
      " \n",
      "\n",
      "\u001b[1mQuasi Monte Carlo naive sequence : \u001b[0m\n",
      "Standard deviation : 0.929955477293994\n",
      "Variance : 0.8648171897491\n",
      "Confidence interval of 0.95 % : [ 39.83572906202258  :  39.87218264687702 ]\n",
      "Result : 39.8539558544498 in 2.0751020908355713 secondes\n",
      "Error :  2.8127108122168636\n"
     ]
    }
   ],
   "source": [
    "N=10000\n",
    "print('\\033[1m' + \"Monte Carlo Standard : \" + '\\033[0m')\n",
    "start_time = time.time()\n",
    "res1,_ = MC(f2,3,5,N)\n",
    "print(\"Result :\",res1,\"in\",time.time() - start_time,\"secondes\")\n",
    "print(\"Error : \",abs(integrate.quad(f2,3,5)[0]-res1),\"\\n \\n\")\n",
    "print('\\033[1m' + \"Quasi Monte Carlo naive sequence : \" + '\\033[0m')\n",
    "start_time = time.time()\n",
    "res2,_ = QMC_naive(f2,3,5,N)\n",
    "print(\"Result :\",res2,\"in\",time.time() - start_time,\"secondes\")\n",
    "print(\"Error : \",abs(integrate.quad(f2,3,5)[0]-res2))"
   ]
  },
  {
   "cell_type": "markdown",
   "metadata": {},
   "source": [
    "### Van Der Corput\n",
    "\n",
    "Van Der Corput sequence works better on all interval $[a,b]$ and even on multi dimensional space wheareas the base choice if prime for each direction"
   ]
  },
  {
   "cell_type": "code",
   "execution_count": 19,
   "metadata": {},
   "outputs": [],
   "source": [
    "def VanDerCoput_sequence(n,base=2,a=0,b=1):\n",
    "    sample =[a]\n",
    "    for i in range(1,n):\n",
    "        phi = 0.0\n",
    "        number = str(np.base_repr(i,base=base))\n",
    "        j = -len(number)\n",
    "        for c in number:\n",
    "            phi+= int(c,base)*pow(base,j)\n",
    "            j = j+1\n",
    "        sample.append(a + phi*(b-a))\n",
    "    return sample"
   ]
  },
  {
   "cell_type": "code",
   "execution_count": 20,
   "metadata": {},
   "outputs": [
    {
     "data": {
      "text/plain": [
       "(array([1.0214011 , 1.00137363, 1.00137363, 0.99135989, 1.00137363,\n",
       "        1.00137363, 0.99135989, 1.01138736, 1.00137363, 0.99135989]),\n",
       " array([4.        , 4.09986283, 4.19972565, 4.29958848, 4.3994513 ,\n",
       "        4.49931413, 4.59917695, 4.69903978, 4.79890261, 4.89876543,\n",
       "        4.99862826]),\n",
       " <a list of 10 Patch objects>)"
      ]
     },
     "execution_count": 20,
     "metadata": {},
     "output_type": "execute_result"
    },
    {
     "data": {
      "image/png": "[encoded data removed]",
      "text/plain": [
       "<Figure size 432x288 with 1 Axes>"
      ]
     },
     "metadata": {
      "needs_background": "light"
     },
     "output_type": "display_data"
    }
   ],
   "source": [
    "seq = VanDerCoput_sequence(1000,3,4,5)\n",
    "plt.hist(seq,density=True)"
   ]
  },
  {
   "cell_type": "code",
   "execution_count": 21,
   "metadata": {},
   "outputs": [],
   "source": [
    "def VanDerCoput_multidim_sequence(n,dim,a=0,b=1):\n",
    "    base_array = [2]\n",
    "    len_base = 1\n",
    "    number = 3\n",
    "    while len_base < dim:\n",
    "        if (is_prime_Miller(number,10)):\n",
    "            base_array.append(number)\n",
    "            len_base +=1 \n",
    "        number +=1  \n",
    "    sample = []\n",
    "    for d in range(dim):\n",
    "        print(\"base :\",base_array[d])\n",
    "        sample.append(VanDerCoput_sequence(n,base_array[d],a,b))\n",
    "    return sample"
   ]
  },
  {
   "cell_type": "markdown",
   "metadata": {},
   "source": [
    "Van Der Corput Sequence in dimension $4$ on $a=3$ and $b=5$"
   ]
  },
  {
   "cell_type": "code",
   "execution_count": 22,
   "metadata": {
    "scrolled": true
   },
   "outputs": [
    {
     "name": "stdout",
     "output_type": "stream",
     "text": [
      "base : 2\n",
      "base : 3\n",
      "base : 5\n",
      "base : 7\n",
      "base : 11\n",
      "base : 13\n",
      "base : 17\n",
      "base : 19\n",
      "base : 23\n",
      "base : 29\n",
      "base : 31\n"
     ]
    },
    {
     "data": {
      "image/png": "[encoded data removed]",
      "text/plain": [
       "<Figure size 432x288 with 1 Axes>"
      ]
     },
     "metadata": {
      "needs_background": "light"
     },
     "output_type": "display_data"
    }
   ],
   "source": [
    "a,b = 3,5\n",
    "n = 1000\n",
    "sequence = VanDerCoput_multidim_sequence(n,11,a,b)\n",
    "plt.scatter(sequence[1],sequence[0],s=2)\n",
    "plt.axis([a,b,a,b])\n",
    "plt.show()"
   ]
  },
  {
   "cell_type": "markdown",
   "metadata": {},
   "source": [
    "Max dimension is 11 because of $\\textit{np.base_repr()}$ allowed only to base 36.\n",
    "\n",
    "Allowing greater base there is no limitation on the dimension.\n",
    "\n",
    "Remarks : above 30 dimensions there is some limitations of the Van Der Corput sequence (called Halton sequence when it's in multidimensional)"
   ]
  },
  {
   "cell_type": "code",
   "execution_count": 23,
   "metadata": {},
   "outputs": [
    {
     "data": {
      "text/plain": [
       "(array([1.1, 1.1, 1.1, 1.1, 1.1, 1.1, 1.1, 1.1, 1.1, 1.1]),\n",
       " array([4.        , 4.09090909, 4.18181818, 4.27272727, 4.36363636,\n",
       "        4.45454545, 4.54545455, 4.63636364, 4.72727273, 4.81818182,\n",
       "        4.90909091]),\n",
       " <a list of 10 Patch objects>)"
      ]
     },
     "execution_count": 23,
     "metadata": {},
     "output_type": "execute_result"
    },
    {
     "data": {
      "image/png": "[encoded data removed]",
      "text/plain": [
       "<Figure size 432x288 with 1 Axes>"
      ]
     },
     "metadata": {
      "needs_background": "light"
     },
     "output_type": "display_data"
    }
   ],
   "source": [
    "seq = VanDerCoput_sequence(20,11,4,5)\n",
    "plt.hist(seq,density=True)"
   ]
  },
  {
   "cell_type": "code",
   "execution_count": 24,
   "metadata": {},
   "outputs": [],
   "source": [
    "def QMC_VanDerCorput(f,a,b,N=1000,alpha=0.05):\n",
    "    exact_result = integrate.quad(f,a,b)[0]\n",
    "    res = []\n",
    "    conv = []\n",
    "    sample = VanDerCoput_sequence(N,2,a,b)\n",
    "    for i in range(N):\n",
    "        res.append((b-a)*f(sample[i]))\n",
    "        conv.append(abs(exact_result-np.mean(res)))\n",
    "    sigma = np.std(res)\n",
    "    sigma2 = np.var(res)\n",
    "    quantil = ndtri(1-alpha/2)\n",
    "    res = np.mean(res)\n",
    "    print(\"Standard deviation :\", sigma)\n",
    "    print(\"Variance :\",sigma2)\n",
    "    print(\"Confidence interval of\", 1-alpha,\"% : [\", res - quantil*sigma/math.sqrt(N), \" : \",res + quantil*sigma/math.sqrt(N),\"]\")\n",
    "    return res,conv"
   ]
  },
  {
   "cell_type": "code",
   "execution_count": 25,
   "metadata": {},
   "outputs": [
    {
     "name": "stdout",
     "output_type": "stream",
     "text": [
      "\u001b[1mMonte Carlo Standard : \u001b[0m\n",
      "Standard deviation : 0.14142293638465486\n",
      "Variance : 0.020000446935658132\n",
      "Confidence interval of 0.95 % : [ 0.6906484900067201  :  0.6961921672447565 ]\n",
      "Result : 0.6934203286257383 in 1.8095848560333252 secondes\n",
      "Error :  0.0002731480657929275 \n",
      " \n",
      "\n",
      "\u001b[1mQuasi Monte Carlo Van Der Corput sequence : \u001b[0m\n",
      "Standard deviation : 0.1398461309548536\n",
      "Variance : 0.019556940343042062\n",
      "Confidence interval of 0.95 % : [ 0.6904920010478401  :  0.6959738686488159 ]\n",
      "Result : 0.693232934848328 in 1.8358290195465088 secondes\n",
      "Error :  8.575428838264454e-05\n"
     ]
    }
   ],
   "source": [
    "N=10000\n",
    "print('\\033[1m' + \"Monte Carlo Standard : \" + '\\033[0m')\n",
    "start_time = time.time()\n",
    "res1,_ = MC(f1,0,1,N)\n",
    "print(\"Result :\",res1,\"in\",time.time() - start_time,\"secondes\")\n",
    "print(\"Error : \",abs(integrate.quad(f1,0,1)[0]-res1),\"\\n \\n\")\n",
    "print('\\033[1m' + \"Quasi Monte Carlo Van Der Corput sequence : \" + '\\033[0m')\n",
    "start_time = time.time()\n",
    "res2,_ = QMC_VanDerCorput(f1,0,1,N)\n",
    "print(\"Result :\",res2,\"in\",time.time() - start_time,\"secondes\")\n",
    "print(\"Error : \",abs(integrate.quad(f1,0,1)[0]-res2))"
   ]
  },
  {
   "cell_type": "code",
   "execution_count": 26,
   "metadata": {},
   "outputs": [
    {
     "name": "stdout",
     "output_type": "stream",
     "text": [
      "\u001b[1mMonte Carlo Standard : \u001b[0m\n",
      "Standard deviation : 11.548983729799053\n",
      "Variance : 133.37902519116327\n",
      "Confidence interval of 0.95 % : [ 42.682562022348314  :  43.13527386571722 ]\n",
      "Result : 42.908917944032765 in 1.811213731765747 secondes\n",
      "Error :  0.2422512773661012 \n",
      " \n",
      "\n",
      "\u001b[1mQuasi Monte Carlo Van Der Corput sequence : \u001b[0m\n",
      "Standard deviation : 11.561649044330883\n",
      "Variance : 133.67172862427722\n",
      "Confidence interval of 0.95 % : [ 42.43322819291857  :  42.886436507494174 ]\n",
      "Result : 42.65983235020637 in 2.70579195022583 secondes\n",
      "Error :  0.0068343164602922\n"
     ]
    }
   ],
   "source": [
    "N=10000\n",
    "print('\\033[1m' + \"Monte Carlo Standard : \" + '\\033[0m')\n",
    "start_time = time.time()\n",
    "res1,_ = MC(f2,3,5,N)\n",
    "print(\"Result :\",res1,\"in\",time.time() - start_time,\"secondes\")\n",
    "print(\"Error : \",abs(integrate.quad(f2,3,5)[0]-res1),\"\\n \\n\")\n",
    "print('\\033[1m' + \"Quasi Monte Carlo Van Der Corput sequence : \" + '\\033[0m')\n",
    "start_time = time.time()\n",
    "res2,_ = QMC_VanDerCorput(f2,3,5,N)\n",
    "print(\"Result :\",res2,\"in\",time.time() - start_time,\"secondes\")\n",
    "print(\"Error : \",abs(integrate.quad(f2,3,5)[0]-res2))"
   ]
  },
  {
   "cell_type": "markdown",
   "metadata": {},
   "source": [
    "# Study of the convergence"
   ]
  },
  {
   "cell_type": "markdown",
   "metadata": {},
   "source": [
    "First we study on $[3,5]$ for a smooth funnction $f(x) = \\frac{1}{1+x}$"
   ]
  },
  {
   "cell_type": "code",
   "execution_count": 27,
   "metadata": {
    "collapsed": true
   },
   "outputs": [
    {
     "name": "stdout",
     "output_type": "stream",
     "text": [
      "MC standard...\n",
      "Standard deviation : 11.577448279048228\n",
      "Variance : 134.0373086540368\n",
      "Confidence interval of 0.95 % : [ 42.60771811386174  :  42.75123101246408 ]\n",
      "MC anthitetic variable...\n"
     ]
    },
    {
     "ename": "KeyboardInterrupt",
     "evalue": "",
     "output_type": "error",
     "traceback": [
      "\u001b[0;31m---------------------------------------------------------------------------\u001b[0m",
      "\u001b[0;31mKeyboardInterrupt\u001b[0m                         Traceback (most recent call last)",
      "\u001b[0;32m<ipython-input-27-6d7ce101322f>\u001b[0m in \u001b[0;36m<module>\u001b[0;34m\u001b[0m\n\u001b[1;32m      4\u001b[0m \u001b[0m_\u001b[0m\u001b[0;34m,\u001b[0m\u001b[0mconv_mc_standard\u001b[0m \u001b[0;34m=\u001b[0m \u001b[0mMC\u001b[0m\u001b[0;34m(\u001b[0m\u001b[0mf2\u001b[0m\u001b[0;34m,\u001b[0m\u001b[0ma\u001b[0m\u001b[0;34m,\u001b[0m\u001b[0mb\u001b[0m\u001b[0;34m,\u001b[0m\u001b[0mN\u001b[0m\u001b[0;34m)\u001b[0m\u001b[0;34m\u001b[0m\u001b[0;34m\u001b[0m\u001b[0m\n\u001b[1;32m      5\u001b[0m \u001b[0mprint\u001b[0m\u001b[0;34m(\u001b[0m\u001b[0;34m\"MC anthitetic variable...\"\u001b[0m\u001b[0;34m)\u001b[0m\u001b[0;34m\u001b[0m\u001b[0;34m\u001b[0m\u001b[0m\n\u001b[0;32m----> 6\u001b[0;31m \u001b[0m_\u001b[0m\u001b[0;34m,\u001b[0m\u001b[0mconv_mc_anthitetic_variable\u001b[0m \u001b[0;34m=\u001b[0m \u001b[0mMC_anthitetic\u001b[0m\u001b[0;34m(\u001b[0m\u001b[0mf2\u001b[0m\u001b[0;34m,\u001b[0m\u001b[0ma\u001b[0m\u001b[0;34m,\u001b[0m\u001b[0mb\u001b[0m\u001b[0;34m,\u001b[0m\u001b[0mN\u001b[0m\u001b[0;34m)\u001b[0m\u001b[0;34m\u001b[0m\u001b[0;34m\u001b[0m\u001b[0m\n\u001b[0m\u001b[1;32m      7\u001b[0m \u001b[0mprint\u001b[0m\u001b[0;34m(\u001b[0m\u001b[0;34m\"MC control variate...\"\u001b[0m\u001b[0;34m)\u001b[0m\u001b[0;34m\u001b[0m\u001b[0;34m\u001b[0m\u001b[0m\n\u001b[1;32m      8\u001b[0m \u001b[0m_\u001b[0m\u001b[0;34m,\u001b[0m\u001b[0mconv_mc_control_variate\u001b[0m \u001b[0;34m=\u001b[0m\u001b[0mMC_control_variate\u001b[0m\u001b[0;34m(\u001b[0m\u001b[0mf2\u001b[0m\u001b[0;34m,\u001b[0m\u001b[0ma\u001b[0m\u001b[0;34m,\u001b[0m\u001b[0mb\u001b[0m\u001b[0;34m,\u001b[0m\u001b[0mN\u001b[0m\u001b[0;34m)\u001b[0m\u001b[0;34m\u001b[0m\u001b[0;34m\u001b[0m\u001b[0m\n",
      "\u001b[0;32m<ipython-input-5-1fc5bfbbcbb4>\u001b[0m in \u001b[0;36mMC_anthitetic\u001b[0;34m(f, a, b, N, alpha)\u001b[0m\n\u001b[1;32m      7\u001b[0m         \u001b[0mval\u001b[0m \u001b[0;34m=\u001b[0m \u001b[0;34m(\u001b[0m\u001b[0mb\u001b[0m\u001b[0;34m-\u001b[0m\u001b[0ma\u001b[0m\u001b[0;34m)\u001b[0m\u001b[0;34m*\u001b[0m \u001b[0;34m(\u001b[0m\u001b[0mf\u001b[0m\u001b[0;34m(\u001b[0m\u001b[0msample\u001b[0m\u001b[0;34m[\u001b[0m\u001b[0mi\u001b[0m\u001b[0;34m]\u001b[0m\u001b[0;34m)\u001b[0m \u001b[0;34m+\u001b[0m \u001b[0mf\u001b[0m\u001b[0;34m(\u001b[0m\u001b[0mb\u001b[0m\u001b[0;34m-\u001b[0m\u001b[0msample\u001b[0m\u001b[0;34m[\u001b[0m\u001b[0mi\u001b[0m\u001b[0;34m]\u001b[0m\u001b[0;34m+\u001b[0m\u001b[0ma\u001b[0m\u001b[0;34m)\u001b[0m\u001b[0;34m)\u001b[0m\u001b[0;34m/\u001b[0m\u001b[0;36m2\u001b[0m\u001b[0;34m\u001b[0m\u001b[0;34m\u001b[0m\u001b[0m\n\u001b[1;32m      8\u001b[0m         \u001b[0mres\u001b[0m\u001b[0;34m.\u001b[0m\u001b[0mappend\u001b[0m\u001b[0;34m(\u001b[0m\u001b[0mval\u001b[0m\u001b[0;34m)\u001b[0m\u001b[0;34m\u001b[0m\u001b[0;34m\u001b[0m\u001b[0m\n\u001b[0;32m----> 9\u001b[0;31m         \u001b[0mconv\u001b[0m\u001b[0;34m.\u001b[0m\u001b[0mappend\u001b[0m\u001b[0;34m(\u001b[0m\u001b[0mabs\u001b[0m\u001b[0;34m(\u001b[0m\u001b[0mexact_result\u001b[0m\u001b[0;34m-\u001b[0m\u001b[0mnp\u001b[0m\u001b[0;34m.\u001b[0m\u001b[0mmean\u001b[0m\u001b[0;34m(\u001b[0m\u001b[0mres\u001b[0m\u001b[0;34m)\u001b[0m\u001b[0;34m)\u001b[0m\u001b[0;34m)\u001b[0m\u001b[0;34m\u001b[0m\u001b[0;34m\u001b[0m\u001b[0m\n\u001b[0m\u001b[1;32m     10\u001b[0m     \u001b[0msigma\u001b[0m \u001b[0;34m=\u001b[0m \u001b[0mnp\u001b[0m\u001b[0;34m.\u001b[0m\u001b[0mstd\u001b[0m\u001b[0;34m(\u001b[0m\u001b[0mres\u001b[0m\u001b[0;34m)\u001b[0m\u001b[0;34m\u001b[0m\u001b[0;34m\u001b[0m\u001b[0m\n\u001b[1;32m     11\u001b[0m     \u001b[0msigma2\u001b[0m \u001b[0;34m=\u001b[0m \u001b[0mnp\u001b[0m\u001b[0;34m.\u001b[0m\u001b[0mvar\u001b[0m\u001b[0;34m(\u001b[0m\u001b[0mres\u001b[0m\u001b[0;34m)\u001b[0m\u001b[0;34m\u001b[0m\u001b[0;34m\u001b[0m\u001b[0m\n",
      "\u001b[0;32m~/anaconda3/lib/python3.7/site-packages/numpy/core/fromnumeric.py\u001b[0m in \u001b[0;36mmean\u001b[0;34m(a, axis, dtype, out, keepdims)\u001b[0m\n\u001b[1;32m   3116\u001b[0m \u001b[0;34m\u001b[0m\u001b[0m\n\u001b[1;32m   3117\u001b[0m     return _methods._mean(a, axis=axis, dtype=dtype,\n\u001b[0;32m-> 3118\u001b[0;31m                           out=out, **kwargs)\n\u001b[0m\u001b[1;32m   3119\u001b[0m \u001b[0;34m\u001b[0m\u001b[0m\n\u001b[1;32m   3120\u001b[0m \u001b[0;34m\u001b[0m\u001b[0m\n",
      "\u001b[0;32m~/anaconda3/lib/python3.7/site-packages/numpy/core/_methods.py\u001b[0m in \u001b[0;36m_mean\u001b[0;34m(a, axis, dtype, out, keepdims)\u001b[0m\n\u001b[1;32m     57\u001b[0m \u001b[0;34m\u001b[0m\u001b[0m\n\u001b[1;32m     58\u001b[0m \u001b[0;32mdef\u001b[0m \u001b[0m_mean\u001b[0m\u001b[0;34m(\u001b[0m\u001b[0ma\u001b[0m\u001b[0;34m,\u001b[0m \u001b[0maxis\u001b[0m\u001b[0;34m=\u001b[0m\u001b[0;32mNone\u001b[0m\u001b[0;34m,\u001b[0m \u001b[0mdtype\u001b[0m\u001b[0;34m=\u001b[0m\u001b[0;32mNone\u001b[0m\u001b[0;34m,\u001b[0m \u001b[0mout\u001b[0m\u001b[0;34m=\u001b[0m\u001b[0;32mNone\u001b[0m\u001b[0;34m,\u001b[0m \u001b[0mkeepdims\u001b[0m\u001b[0;34m=\u001b[0m\u001b[0;32mFalse\u001b[0m\u001b[0;34m)\u001b[0m\u001b[0;34m:\u001b[0m\u001b[0;34m\u001b[0m\u001b[0;34m\u001b[0m\u001b[0m\n\u001b[0;32m---> 59\u001b[0;31m     \u001b[0marr\u001b[0m \u001b[0;34m=\u001b[0m \u001b[0masanyarray\u001b[0m\u001b[0;34m(\u001b[0m\u001b[0ma\u001b[0m\u001b[0;34m)\u001b[0m\u001b[0;34m\u001b[0m\u001b[0;34m\u001b[0m\u001b[0m\n\u001b[0m\u001b[1;32m     60\u001b[0m \u001b[0;34m\u001b[0m\u001b[0m\n\u001b[1;32m     61\u001b[0m     \u001b[0mis_float16_result\u001b[0m \u001b[0;34m=\u001b[0m \u001b[0;32mFalse\u001b[0m\u001b[0;34m\u001b[0m\u001b[0;34m\u001b[0m\u001b[0m\n",
      "\u001b[0;32m~/anaconda3/lib/python3.7/site-packages/numpy/core/numeric.py\u001b[0m in \u001b[0;36masanyarray\u001b[0;34m(a, dtype, order)\u001b[0m\n\u001b[1;32m    589\u001b[0m \u001b[0;34m\u001b[0m\u001b[0m\n\u001b[1;32m    590\u001b[0m     \"\"\"\n\u001b[0;32m--> 591\u001b[0;31m     \u001b[0;32mreturn\u001b[0m \u001b[0marray\u001b[0m\u001b[0;34m(\u001b[0m\u001b[0ma\u001b[0m\u001b[0;34m,\u001b[0m \u001b[0mdtype\u001b[0m\u001b[0;34m,\u001b[0m \u001b[0mcopy\u001b[0m\u001b[0;34m=\u001b[0m\u001b[0;32mFalse\u001b[0m\u001b[0;34m,\u001b[0m \u001b[0morder\u001b[0m\u001b[0;34m=\u001b[0m\u001b[0morder\u001b[0m\u001b[0;34m,\u001b[0m \u001b[0msubok\u001b[0m\u001b[0;34m=\u001b[0m\u001b[0;32mTrue\u001b[0m\u001b[0;34m)\u001b[0m\u001b[0;34m\u001b[0m\u001b[0;34m\u001b[0m\u001b[0m\n\u001b[0m\u001b[1;32m    592\u001b[0m \u001b[0;34m\u001b[0m\u001b[0m\n\u001b[1;32m    593\u001b[0m \u001b[0;34m\u001b[0m\u001b[0m\n",
      "\u001b[0;31mKeyboardInterrupt\u001b[0m: "
     ]
    }
   ],
   "source": [
    "a ,b = 3,5\n",
    "N = pow(10,5)\n",
    "print(\"MC standard...\")\n",
    "_,conv_mc_standard = MC(f2,a,b,N)\n",
    "print(\"MC anthitetic variable...\")\n",
    "_,conv_mc_anthitetic_variable = MC_anthitetic(f2,a,b,N)\n",
    "print(\"MC control variate...\")\n",
    "_,conv_mc_control_variate =MC_control_variate(f2,a,b,N)\n",
    "print(\"QMC...\")\n",
    "_,conv_qmc = QMC_VanDerCorput(f2,a,b,N)"
   ]
  },
  {
   "cell_type": "code",
   "execution_count": null,
   "metadata": {},
   "outputs": [],
   "source": [
    "plt.figure(figsize=(8,8))\n",
    "x = np.linspace(0,N,50)\n",
    "plt.plot(range(N)[0::int(N/10)],conv_mc_standard[0::int(N/10)],color=\"b\")\n",
    "plt.plot(range(N)[0::int(N/10)],conv_mc_anthitetic_variable[0::int(N/10)],color=\"r\")\n",
    "plt.plot(range(N)[0::int(N/10)],conv_mc_control_variate[0::int(N/10)],color=\"g\")\n",
    "plt.plot(range(N)[0::int(N/10)],conv_qmc[0::int(N/10)],color=\"black\")\n",
    "plt.legend(['MC standard','MC Anthitetic variable','MC control variate','QMC'])\n",
    "plt.yscale('log')\n",
    "plt.title('Convergence')\n",
    "plt.xlabel(\"Number of simulations\")\n",
    "plt.ylabel(\"Error\")\n",
    "#plt.xscale('log')"
   ]
  }
 ],
 "metadata": {
  "kernelspec": {
   "display_name": "Python 3 (ipykernel)",
   "language": "python",
   "name": "python3"
  },
  "language_info": {
   "codemirror_mode": {
    "name": "ipython",
    "version": 3
   },
   "file_extension": ".py",
   "mimetype": "text/x-python",
   "name": "python",
   "nbconvert_exporter": "python",
   "pygments_lexer": "ipython3",
   "version": "3.9.7"
  }
 },
 "nbformat": 4,
 "nbformat_minor": 2
}
